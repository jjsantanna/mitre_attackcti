{
 "cells": [
  {
   "cell_type": "markdown",
   "id": "1a93f475",
   "metadata": {},
   "source": [
    "# Playing with MITRE attackcti library"
   ]
  },
  {
   "cell_type": "code",
   "execution_count": 2,
   "id": "65c0cc28",
   "metadata": {},
   "outputs": [],
   "source": [
    "# !pip install attackcti"
   ]
  },
  {
   "cell_type": "code",
   "execution_count": 3,
   "id": "00073e60",
   "metadata": {},
   "outputs": [],
   "source": [
    "from attackcti import attack_client"
   ]
  },
  {
   "cell_type": "code",
   "execution_count": 28,
   "id": "075792ac",
   "metadata": {},
   "outputs": [],
   "source": [
    "import pandas as pd\n",
    "pd.set_option('display.max_columns', None)\n",
    "pd.set_option('display.max_colwidth', None)\n",
    "# pd.set_option(\"display.max_rows\", None)\n",
    "\n",
    "import json\n",
    "\n",
    "import logging\n",
    "logging.getLogger('taxii2client').setLevel(logging.CRITICAL)"
   ]
  },
  {
   "cell_type": "code",
   "execution_count": 5,
   "id": "cf60c943",
   "metadata": {},
   "outputs": [],
   "source": [
    "lift = attack_client()"
   ]
  },
  {
   "cell_type": "markdown",
   "id": "fa5b1b76",
   "metadata": {},
   "source": [
    "### Getting all techniques"
   ]
  },
  {
   "cell_type": "code",
   "execution_count": 6,
   "id": "e265d308",
   "metadata": {},
   "outputs": [],
   "source": [
    "techniques = lift.get_techniques()"
   ]
  },
  {
   "cell_type": "code",
   "execution_count": 30,
   "id": "120f2d0e",
   "metadata": {},
   "outputs": [],
   "source": [
    "df_techniques = pd.DataFrame(techniques)"
   ]
  },
  {
   "cell_type": "code",
   "execution_count": 31,
   "id": "b555cc08",
   "metadata": {},
   "outputs": [
    {
     "data": {
      "text/plain": [
       "780"
      ]
     },
     "execution_count": 31,
     "metadata": {},
     "output_type": "execute_result"
    }
   ],
   "source": [
    "len(df_techniques)"
   ]
  },
  {
   "cell_type": "markdown",
   "id": "998d80e4",
   "metadata": {},
   "source": [
    "### Get all groups"
   ]
  },
  {
   "cell_type": "code",
   "execution_count": 15,
   "id": "bd16b89a",
   "metadata": {},
   "outputs": [],
   "source": [
    "groups = lift.get_groups()"
   ]
  },
  {
   "cell_type": "code",
   "execution_count": 16,
   "id": "32ef4796",
   "metadata": {},
   "outputs": [],
   "source": [
    "df_groups = pd.DataFrame(groups)"
   ]
  },
  {
   "cell_type": "code",
   "execution_count": 32,
   "id": "5c95a37b",
   "metadata": {},
   "outputs": [
    {
     "data": {
      "text/plain": [
       "135"
      ]
     },
     "execution_count": 32,
     "metadata": {},
     "output_type": "execute_result"
    }
   ],
   "source": [
    "len(df_groups)"
   ]
  },
  {
   "cell_type": "markdown",
   "id": "530f52da",
   "metadata": {},
   "source": [
    "Searching for conti (ransomware group)"
   ]
  },
  {
   "cell_type": "code",
   "execution_count": 26,
   "id": "773a6f8c",
   "metadata": {},
   "outputs": [
    {
     "data": {
      "text/html": [
       "<div>\n",
       "<style scoped>\n",
       "    .dataframe tbody tr th:only-of-type {\n",
       "        vertical-align: middle;\n",
       "    }\n",
       "\n",
       "    .dataframe tbody tr th {\n",
       "        vertical-align: top;\n",
       "    }\n",
       "\n",
       "    .dataframe thead th {\n",
       "        text-align: right;\n",
       "    }\n",
       "</style>\n",
       "<table border=\"1\" class=\"dataframe\">\n",
       "  <thead>\n",
       "    <tr style=\"text-align: right;\">\n",
       "      <th></th>\n",
       "      <th>aliases</th>\n",
       "      <th>created</th>\n",
       "      <th>created_by_ref</th>\n",
       "      <th>description</th>\n",
       "      <th>external_references</th>\n",
       "      <th>id</th>\n",
       "      <th>modified</th>\n",
       "      <th>name</th>\n",
       "      <th>object_marking_refs</th>\n",
       "      <th>revoked</th>\n",
       "      <th>type</th>\n",
       "      <th>x_mitre_attack_spec_version</th>\n",
       "      <th>x_mitre_contributors</th>\n",
       "      <th>x_mitre_deprecated</th>\n",
       "      <th>x_mitre_domains</th>\n",
       "      <th>x_mitre_modified_by_ref</th>\n",
       "      <th>x_mitre_version</th>\n",
       "    </tr>\n",
       "  </thead>\n",
       "  <tbody>\n",
       "  </tbody>\n",
       "</table>\n",
       "</div>"
      ],
      "text/plain": [
       "Empty DataFrame\n",
       "Columns: [aliases, created, created_by_ref, description, external_references, id, modified, name, object_marking_refs, revoked, type, x_mitre_attack_spec_version, x_mitre_contributors, x_mitre_deprecated, x_mitre_domains, x_mitre_modified_by_ref, x_mitre_version]\n",
       "Index: []"
      ]
     },
     "execution_count": 26,
     "metadata": {},
     "output_type": "execute_result"
    }
   ],
   "source": [
    "df_groups[df_groups['name'].str.contains('conti', case=False)]"
   ]
  },
  {
   "cell_type": "markdown",
   "id": "fa71f83f",
   "metadata": {},
   "source": [
    "### Get Software"
   ]
  },
  {
   "cell_type": "code",
   "execution_count": 23,
   "id": "3971f08c",
   "metadata": {},
   "outputs": [],
   "source": [
    "software = lift.get_software()"
   ]
  },
  {
   "cell_type": "code",
   "execution_count": 24,
   "id": "0e254d47",
   "metadata": {},
   "outputs": [],
   "source": [
    "df_software = pd.DataFrame(software)"
   ]
  },
  {
   "cell_type": "code",
   "execution_count": 33,
   "id": "4db8f117",
   "metadata": {},
   "outputs": [
    {
     "data": {
      "text/plain": [
       "718"
      ]
     },
     "execution_count": 33,
     "metadata": {},
     "output_type": "execute_result"
    }
   ],
   "source": [
    "len(df_software)"
   ]
  },
  {
   "cell_type": "markdown",
   "id": "4fa93f1c",
   "metadata": {},
   "source": [
    "Searching for Conti (ransomware group)"
   ]
  },
  {
   "cell_type": "code",
   "execution_count": 29,
   "id": "e036cdea",
   "metadata": {},
   "outputs": [
    {
     "data": {
      "text/html": [
       "<div>\n",
       "<style scoped>\n",
       "    .dataframe tbody tr th:only-of-type {\n",
       "        vertical-align: middle;\n",
       "    }\n",
       "\n",
       "    .dataframe tbody tr th {\n",
       "        vertical-align: top;\n",
       "    }\n",
       "\n",
       "    .dataframe thead th {\n",
       "        text-align: right;\n",
       "    }\n",
       "</style>\n",
       "<table border=\"1\" class=\"dataframe\">\n",
       "  <thead>\n",
       "    <tr style=\"text-align: right;\">\n",
       "      <th></th>\n",
       "      <th>created</th>\n",
       "      <th>created_by_ref</th>\n",
       "      <th>description</th>\n",
       "      <th>external_references</th>\n",
       "      <th>id</th>\n",
       "      <th>labels</th>\n",
       "      <th>modified</th>\n",
       "      <th>name</th>\n",
       "      <th>object_marking_refs</th>\n",
       "      <th>revoked</th>\n",
       "      <th>type</th>\n",
       "      <th>x_mitre_aliases</th>\n",
       "      <th>x_mitre_attack_spec_version</th>\n",
       "      <th>x_mitre_contributors</th>\n",
       "      <th>x_mitre_deprecated</th>\n",
       "      <th>x_mitre_domains</th>\n",
       "      <th>x_mitre_modified_by_ref</th>\n",
       "      <th>x_mitre_platforms</th>\n",
       "      <th>x_mitre_version</th>\n",
       "    </tr>\n",
       "  </thead>\n",
       "  <tbody>\n",
       "    <tr>\n",
       "      <th>212</th>\n",
       "      <td>2021-02-17 18:51:57.710000+00:00</td>\n",
       "      <td>identity--c78cb6e5-0c4b-4611-8297-d1b8b55e40b5</td>\n",
       "      <td>[Conti](https://attack.mitre.org/software/S0575) is a Ransomware-as-a-Service (RaaS) that was first observed in December 2019. [Conti](https://attack.mitre.org/software/S0575) has been deployed via [TrickBot](https://attack.mitre.org/software/S0266) and used against major corporations and government agencies, particularly those in North America. As with other ransomware families, actors using [Conti](https://attack.mitre.org/software/S0575) steal sensitive files and information from compromised networks, and threaten to publish this data unless the ransom is paid.(Citation: Cybereason Conti Jan 2021)(Citation: CarbonBlack Conti July 2020)(Citation: Cybleinc Conti January 2020)</td>\n",
       "      <td>[(source_name, url, external_id), (source_name, description), (source_name, description, url), (source_name, description, url), (source_name, description, url)]</td>\n",
       "      <td>malware--4dea7d8e-af94-4bfb-afe4-7ff54f59308b</td>\n",
       "      <td>[malware]</td>\n",
       "      <td>2022-09-29 16:45:13.038000+00:00</td>\n",
       "      <td>Conti</td>\n",
       "      <td>[marking-definition--fa42a846-8d90-4e51-bc29-71d5b4802168]</td>\n",
       "      <td>False</td>\n",
       "      <td>malware</td>\n",
       "      <td>[Conti]</td>\n",
       "      <td>2.1.0</td>\n",
       "      <td>[Daniyal Naeem, BT Security]</td>\n",
       "      <td>False</td>\n",
       "      <td>[enterprise-attack]</td>\n",
       "      <td>identity--c78cb6e5-0c4b-4611-8297-d1b8b55e40b5</td>\n",
       "      <td>[Windows]</td>\n",
       "      <td>2.1</td>\n",
       "    </tr>\n",
       "  </tbody>\n",
       "</table>\n",
       "</div>"
      ],
      "text/plain": [
       "                             created  \\\n",
       "212 2021-02-17 18:51:57.710000+00:00   \n",
       "\n",
       "                                     created_by_ref  \\\n",
       "212  identity--c78cb6e5-0c4b-4611-8297-d1b8b55e40b5   \n",
       "\n",
       "                                                                                                                                                                                                                                                                                                                                                                                                                                                                                                                                                                                                                                                                                                       description  \\\n",
       "212  [Conti](https://attack.mitre.org/software/S0575) is a Ransomware-as-a-Service (RaaS) that was first observed in December 2019. [Conti](https://attack.mitre.org/software/S0575) has been deployed via [TrickBot](https://attack.mitre.org/software/S0266) and used against major corporations and government agencies, particularly those in North America. As with other ransomware families, actors using [Conti](https://attack.mitre.org/software/S0575) steal sensitive files and information from compromised networks, and threaten to publish this data unless the ransom is paid.(Citation: Cybereason Conti Jan 2021)(Citation: CarbonBlack Conti July 2020)(Citation: Cybleinc Conti January 2020)   \n",
       "\n",
       "                                                                                                                                                  external_references  \\\n",
       "212  [(source_name, url, external_id), (source_name, description), (source_name, description, url), (source_name, description, url), (source_name, description, url)]   \n",
       "\n",
       "                                                id     labels  \\\n",
       "212  malware--4dea7d8e-af94-4bfb-afe4-7ff54f59308b  [malware]   \n",
       "\n",
       "                            modified   name  \\\n",
       "212 2022-09-29 16:45:13.038000+00:00  Conti   \n",
       "\n",
       "                                            object_marking_refs  revoked  \\\n",
       "212  [marking-definition--fa42a846-8d90-4e51-bc29-71d5b4802168]    False   \n",
       "\n",
       "        type x_mitre_aliases x_mitre_attack_spec_version  \\\n",
       "212  malware         [Conti]                       2.1.0   \n",
       "\n",
       "             x_mitre_contributors x_mitre_deprecated      x_mitre_domains  \\\n",
       "212  [Daniyal Naeem, BT Security]              False  [enterprise-attack]   \n",
       "\n",
       "                            x_mitre_modified_by_ref x_mitre_platforms  \\\n",
       "212  identity--c78cb6e5-0c4b-4611-8297-d1b8b55e40b5         [Windows]   \n",
       "\n",
       "    x_mitre_version  \n",
       "212             2.1  "
      ]
     },
     "execution_count": 29,
     "metadata": {},
     "output_type": "execute_result"
    }
   ],
   "source": [
    "df_software[df_software['name'].str.contains('conti', case=False)]"
   ]
  }
 ],
 "metadata": {
  "kernelspec": {
   "display_name": "Python 3",
   "language": "python",
   "name": "python3"
  },
  "language_info": {
   "codemirror_mode": {
    "name": "ipython",
    "version": 3
   },
   "file_extension": ".py",
   "mimetype": "text/x-python",
   "name": "python",
   "nbconvert_exporter": "python",
   "pygments_lexer": "ipython3",
   "version": "3.9.15"
  }
 },
 "nbformat": 4,
 "nbformat_minor": 5
}
